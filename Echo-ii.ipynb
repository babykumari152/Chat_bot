{
 "cells": [
  {
   "cell_type": "code",
   "execution_count": 1,
   "metadata": {},
   "outputs": [],
   "source": [
    "#importing libraries\n",
    "import re\n",
    "import random"
   ]
  },
  {
   "cell_type": "code",
   "execution_count": 3,
   "metadata": {},
   "outputs": [],
   "source": [
    "name=\"Ms. Bot\"\n",
    "weather=\"Chilled\"\n",
    "responses = {\n",
    "  \"what's your name?\": [\n",
    "      \"my name is {0}\".format(name),\n",
    "      \"they call me {0}\".format(name),\n",
    "      \"I go by {0}\".format(name)\n",
    "   ],\n",
    "  \"what's today's weather?\": [\n",
    "      \"the weather is {0}\".format(weather),\n",
    "      \"it's {0} today\".format(weather)\n",
    "    ],\n",
    "    \"default\":[\"Sorry! Didn't get you\",\"what do you mean by this\",\"Sorry! what??\"\n",
    "    ],\n",
    "    \"How are you ?\":[\"I'm doing good\\nHow about You ?\",]\n",
    "}"
   ]
  },
  {
   "cell_type": "code",
   "execution_count": 6,
   "metadata": {},
   "outputs": [],
   "source": [
    "def respond(message):\n",
    "    #check if users questions belong to bot knowledge\n",
    "    if message in responses:\n",
    "        #replacing question with statement from defined dictionary\n",
    "        response = responses[message]\n",
    "    else:\n",
    "        response=responses[\"default\"]\n",
    "    return response"
   ]
  },
  {
   "cell_type": "code",
   "execution_count": 4,
   "metadata": {},
   "outputs": [],
   "source": [
    "# output formating\n",
    "user_temp=\"User: {}\"\n",
    "Bot_temp=\"Bot: {}\"\n",
    "def send_message(message):\n",
    "    #print user statement to the bot\n",
    "    print(user_temp.format(message))\n",
    "    # lower case conversion of user statement\n",
    "    message=message.lower()\n",
    "    # call respond to give ralevent answer to the user\n",
    "    response=respond(message)\n",
    "    # print Bot statement to the user\n",
    "    print(Bot_temp.format(response))"
   ]
  },
  {
   "cell_type": "code",
   "execution_count": 7,
   "metadata": {},
   "outputs": [
    {
     "name": "stdout",
     "output_type": "stream",
     "text": [
      "User: what's your name?\n",
      "Bot: ['my name is Ms. Bot', 'they call me Ms. Bot', 'I go by Ms. Bot']\n"
     ]
    }
   ],
   "source": [
    "send_message(\"what's your name?\")"
   ]
  },
  {
   "cell_type": "code",
   "execution_count": 8,
   "metadata": {},
   "outputs": [],
   "source": [
    "def replace_pronoun(message):\n",
    "\n",
    "    message = message.lower()\n",
    "    if 'me' in message:\n",
    "        # Replace 'me' with 'you'\n",
    "        return re.sub('me','you',message)\n",
    "    if 'my' in message:\n",
    "        # Replace 'my' with 'your'\n",
    "        return re.sub('my','your',message)\n",
    "    if 'your' in message:\n",
    "        # Replace 'your' with 'my'\n",
    "        return re.sub('your','my',message)\n",
    "    if 'you' in message:\n",
    "        # Replace 'you' with 'I'\n",
    "        return re.sub('you','I',message)\n",
    "\n",
    "    return message"
   ]
  },
  {
   "cell_type": "code",
   "execution_count": 9,
   "metadata": {},
   "outputs": [],
   "source": [
    "name = \"Ms. Bot\"\n",
    "weather = \"cloudy\"\n",
    "\n",
    "# Define a dictionary containing a list of responses for each message as well as regex responses and message handling\n",
    "responses = {\n",
    "  \"what's your name?\": [\n",
    "      \"my name is {0}\".format(name),\n",
    "      \"they call me {0}\".format(name),\n",
    "      \"I go by {0}\".format(name)\n",
    "   ],\n",
    "  \"what's today's weather?\": [\n",
    "      \"the weather is {0}\".format(weather),\n",
    "      \"it's {0} today\".format(weather)\n",
    "    ],\n",
    "    \"How are you ?\": [\"I'm doing good\\nHow about You ?\",],\n",
    "    \n",
    "    \"do you remember (.*)\": [\"How could i forget {0}\",\"Yes! I remember {0}\",\"Did you think i would forget {0}\"] ,\n",
    "    \n",
    "    \"what if (.*)\" : [\"Really if {0}\",\"I think {0}\"], \n",
    "    \n",
    "    \"if (.*)\" : [\"{0}\",\"Then {0}\"] , \n",
    "    \n",
    "    \"what would happen (.*)\":[\"I think {0}\",\"May be {0}\"],\n",
    "    \n",
    "    \"I want (.*)\": [\"What would it mean if you got {0}\",\"Why do you want {0}\",\"What's stopping you from getting {0}\"],\n",
    "    \n",
    "  \"default\": [\"Sorry! I didn't understand you\",\"Pardon me! what does it mean?\"]\n",
    "}"
   ]
  },
  {
   "cell_type": "code",
   "execution_count": 10,
   "metadata": {},
   "outputs": [],
   "source": [
    "statement={\"statements\":[\"Wow!\",\"Tell me more!\",\"Nice to hear that\",\"Sounds amazing\"]}"
   ]
  },
  {
   "cell_type": "code",
   "execution_count": 11,
   "metadata": {},
   "outputs": [],
   "source": [
    "\n",
    "\n",
    "# Use random.choice() to choose a matching response\n",
    "def respond(message):\n",
    "    bot_message,match=\"default\",None\n",
    "    for pattern, response in responses.items():\n",
    "        # Create a match object\n",
    "        match = re.search(pattern, message)\n",
    "        if match is not None:\n",
    "            # Choose a random response\n",
    "            bot_message = random.choice(response)\n",
    "            \n",
    "            if '{0}' in bot_message:\n",
    "                \n",
    "                \n",
    "                replaced_pronoun=replace_pronoun(match.group(1))\n",
    "                bot_message=bot_message.format(replaced_pronoun)\n",
    "                break\n",
    "            else: \n",
    "                break\n",
    "    # throw an statement to user if they didn't ask any question            \n",
    "    if bot_message==\"default\" and not message.endswith('?'):\n",
    "        bot_message=random.choice(statement[\"statements\"])\n",
    "   #throw default message to user if that question is not belong to bot dictionary\n",
    "    if  bot_message==\"default\":\n",
    "        bot_message=random.choice(responses['default'])\n",
    "        \n",
    "    return bot_message"
   ]
  },
  {
   "cell_type": "code",
   "execution_count": 12,
   "metadata": {},
   "outputs": [
    {
     "name": "stdout",
     "output_type": "stream",
     "text": [
      "User: what's your name?\n",
      "Bot: my name is Ms. Bot\n"
     ]
    }
   ],
   "source": [
    "send_message(\"what's your name?\")"
   ]
  },
  {
   "cell_type": "code",
   "execution_count": 13,
   "metadata": {},
   "outputs": [
    {
     "name": "stdout",
     "output_type": "stream",
     "text": [
      "User: what if you could be anything you wanted\n",
      "Bot: I think I could be anything I wanted\n"
     ]
    }
   ],
   "source": [
    "send_message(\"what if you could be anything you wanted\")"
   ]
  },
  {
   "cell_type": "code",
   "execution_count": 18,
   "metadata": {},
   "outputs": [
    {
     "name": "stdout",
     "output_type": "stream",
     "text": [
      "User: what's today's weather?\n",
      "Bot: it's cloudy today\n"
     ]
    }
   ],
   "source": [
    "send_message(\"what's today's weather?\")"
   ]
  },
  {
   "cell_type": "code",
   "execution_count": 19,
   "metadata": {},
   "outputs": [
    {
     "name": "stdout",
     "output_type": "stream",
     "text": [
      "User: what's today's weather?\n",
      "Bot: it's cloudy today\n"
     ]
    }
   ],
   "source": [
    "send_message(\"what's today's weather?\")"
   ]
  },
  {
   "cell_type": "code",
   "execution_count": 22,
   "metadata": {},
   "outputs": [
    {
     "name": "stdout",
     "output_type": "stream",
     "text": [
      "User: what's your name?\n",
      "Bot: they call me Ms. Bot\n"
     ]
    }
   ],
   "source": [
    "send_message(\"what's your name?\")"
   ]
  },
  {
   "cell_type": "code",
   "execution_count": 23,
   "metadata": {},
   "outputs": [
    {
     "name": "stdout",
     "output_type": "stream",
     "text": [
      "User: I want you\n",
      "Bot: Sounds amazing\n"
     ]
    }
   ],
   "source": [
    "send_message(\"I want you\")"
   ]
  },
  {
   "cell_type": "code",
   "execution_count": 28,
   "metadata": {},
   "outputs": [
    {
     "name": "stdout",
     "output_type": "stream",
     "text": [
      "User: what if you were a human?\n",
      "Bot: I think I were a human?\n"
     ]
    }
   ],
   "source": [
    "send_message(\"what if you were a human?\")"
   ]
  },
  {
   "cell_type": "code",
   "execution_count": 34,
   "metadata": {},
   "outputs": [
    {
     "name": "stdout",
     "output_type": "stream",
     "text": [
      "User: let's sing\n",
      "Bot: Sounds amazing\n"
     ]
    }
   ],
   "source": [
    "send_message(\"let's sing\")"
   ]
  },
  {
   "cell_type": "code",
   "execution_count": 35,
   "metadata": {},
   "outputs": [
    {
     "name": "stdout",
     "output_type": "stream",
     "text": [
      "User: how are you?\n",
      "Bot: Pardon me! what does it mean?\n"
     ]
    }
   ],
   "source": [
    "send_message(\"how are you?\")"
   ]
  },
  {
   "cell_type": "code",
   "execution_count": 36,
   "metadata": {},
   "outputs": [
    {
     "name": "stdout",
     "output_type": "stream",
     "text": [
      "User: How are you ?\n",
      "Bot: Sorry! I didn't understand you\n"
     ]
    }
   ],
   "source": [
    "send_message(\"How about dancing and singing on the moon ?\")"
   ]
  },
  {
   "cell_type": "code",
   "execution_count": null,
   "metadata": {},
   "outputs": [],
   "source": []
  }
 ],
 "metadata": {
  "kernelspec": {
   "display_name": "Python 3",
   "language": "python",
   "name": "python3"
  },
  "language_info": {
   "codemirror_mode": {
    "name": "ipython",
    "version": 3
   },
   "file_extension": ".py",
   "mimetype": "text/x-python",
   "name": "python",
   "nbconvert_exporter": "python",
   "pygments_lexer": "ipython3",
   "version": "3.6.8"
  }
 },
 "nbformat": 4,
 "nbformat_minor": 2
}
